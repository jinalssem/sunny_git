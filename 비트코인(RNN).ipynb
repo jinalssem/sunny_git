{
  "nbformat": 4,
  "nbformat_minor": 0,
  "metadata": {
    "kernelspec": {
      "display_name": "Python 3",
      "language": "python",
      "name": "python3"
    },
    "language_info": {
      "codemirror_mode": {
        "name": "ipython",
        "version": 3
      },
      "file_extension": ".py",
      "mimetype": "text/x-python",
      "name": "python",
      "nbconvert_exporter": "python",
      "pygments_lexer": "ipython3",
      "version": "3.7.4"
    },
    "colab": {
      "name": "비트코인(RNN)-임성규.ipynb",
      "provenance": [],
      "collapsed_sections": [],
      "include_colab_link": true
    },
    "accelerator": "GPU"
  },
  "cells": [
    {
      "cell_type": "markdown",
      "metadata": {
        "id": "view-in-github",
        "colab_type": "text"
      },
      "source": [
        "<a href=\"https://colab.research.google.com/github/jinalssem/sunny_git/blob/master/%EB%B9%84%ED%8A%B8%EC%BD%94%EC%9D%B8(RNN).ipynb\" target=\"_parent\"><img src=\"https://colab.research.google.com/assets/colab-badge.svg\" alt=\"Open In Colab\"/></a>"
      ]
    },
    {
      "cell_type": "markdown",
      "metadata": {
        "id": "pcuTdYJZV2uN"
      },
      "source": [
        "### 패키지 수입 및 하이퍼 파라미터 지정"
      ]
    },
    {
      "cell_type": "code",
      "metadata": {
        "id": "H-iuHp8opfLS",
        "colab": {
          "base_uri": "https://localhost:8080/"
        },
        "outputId": "d2c1b1fb-2885-417d-b68a-837e5b0016c3"
      },
      "source": [
        "# Matplotlib에서 한글을 보여줄 나눔폰트 설치\r\n",
        "!apt-get update -qq\r\n",
        "!apt-get install fonts-nanum* -qq"
      ],
      "execution_count": null,
      "outputs": [
        {
          "output_type": "stream",
          "text": [
            "Selecting previously unselected package fonts-nanum.\n",
            "(Reading database ... 146442 files and directories currently installed.)\n",
            "Preparing to unpack .../fonts-nanum_20170925-1_all.deb ...\n",
            "Unpacking fonts-nanum (20170925-1) ...\n",
            "Selecting previously unselected package fonts-nanum-eco.\n",
            "Preparing to unpack .../fonts-nanum-eco_1.000-6_all.deb ...\n",
            "Unpacking fonts-nanum-eco (1.000-6) ...\n",
            "Selecting previously unselected package fonts-nanum-extra.\n",
            "Preparing to unpack .../fonts-nanum-extra_20170925-1_all.deb ...\n",
            "Unpacking fonts-nanum-extra (20170925-1) ...\n",
            "Selecting previously unselected package fonts-nanum-coding.\n",
            "Preparing to unpack .../fonts-nanum-coding_2.5-1_all.deb ...\n",
            "Unpacking fonts-nanum-coding (2.5-1) ...\n",
            "Setting up fonts-nanum-extra (20170925-1) ...\n",
            "Setting up fonts-nanum (20170925-1) ...\n",
            "Setting up fonts-nanum-coding (2.5-1) ...\n",
            "Setting up fonts-nanum-eco (1.000-6) ...\n",
            "Processing triggers for fontconfig (2.12.6-0ubuntu2) ...\n"
          ],
          "name": "stdout"
        }
      ]
    },
    {
      "cell_type": "code",
      "metadata": {
        "id": "87BTfcWuV2uU"
      },
      "source": [
        "# 1. 패키지 수입\n",
        "import pandas as pd\n",
        "import numpy as np\n",
        "import os\n",
        "from time import time\n",
        "import datetime\n",
        "import platform\n",
        "%matplotlib inline\n",
        "\n",
        "import matplotlib as mpl  # 기본 설정 만지는 용도\n",
        "import matplotlib.pyplot as plt  # 그래프 그리는 용도\n",
        "import matplotlib.font_manager as fm  # 폰트 관련 용도"
      ],
      "execution_count": null,
      "outputs": []
    },
    {
      "cell_type": "code",
      "metadata": {
        "id": "JGg56x-NV2uV"
      },
      "source": [
        "from keras.layers import Dense\n",
        "from keras.layers import LSTM, InputLayer, SimpleRNN\n",
        "from keras.models import Sequential\n",
        "from sklearn.preprocessing import MinMaxScaler\n",
        "from sklearn.model_selection import train_test_split         # 사용하면 매우 편리"
      ],
      "execution_count": null,
      "outputs": []
    },
    {
      "cell_type": "code",
      "metadata": {
        "colab": {
          "base_uri": "https://localhost:8080/"
        },
        "id": "PlCLI_2nWcwc",
        "outputId": "6009d62a-ea84-4c01-9d6f-1fe247732394"
      },
      "source": [
        "# Google Drive Mount\r\n",
        "from google.colab import drive, files\r\n",
        "drive.mount('/content/drive',force_remount=True)       #  Mount를 안하면 /content/drive에 접근 불가 /content는 접근 가능"
      ],
      "execution_count": null,
      "outputs": [
        {
          "output_type": "stream",
          "text": [
            "Mounted at /content/drive\n"
          ],
          "name": "stdout"
        }
      ]
    },
    {
      "cell_type": "code",
      "metadata": {
        "id": "124SCE2QV2uW"
      },
      "source": [
        "# 하이퍼 파라미터\n",
        "MY_PAST = 5       # 과거 데이터 1년(12개월치의 데이터)\n",
        "MY_HIDDEN = 256    # RNN 마스터 셀의 구조 규모, 과거 정보의 개수\n",
        "MY_EPOCH = 200\n",
        "MY_SHAPE = (MY_PAST, 1)  # 입력 데이터의 모양 정보, Keras RNN 요구 정보\n",
        "DOLLAR_TO_WON = 1120\n",
        "TRAIN_MODE = 0"
      ],
      "execution_count": null,
      "outputs": []
    },
    {
      "cell_type": "markdown",
      "metadata": {
        "id": "wnl9fx9yV2uW"
      },
      "source": [
        "### 2. 데이터 불러오기 및 선처리"
      ]
    },
    {
      "cell_type": "code",
      "metadata": {
        "id": "wxpxVpkhV2uW"
      },
      "source": [
        "# GPU 사용 필요\n",
        "# 데이터 준비\n",
        "in_dir = '/content/drive/MyDrive/bitcoin/'\n",
        "fname='BTC-USD.csv'\n",
        "#fname='TSLA.csv'\n",
        "\n",
        "fname=os.path.join(in_dir, fname)\n",
        "\n",
        "raw = pd.read_csv(fname,\n",
        "                usecols=['Date','Close'],\n",
        "                parse_dates=True,\n",
        "                index_col='Date')"
      ],
      "execution_count": null,
      "outputs": []
    },
    {
      "cell_type": "code",
      "metadata": {
        "colab": {
          "base_uri": "https://localhost:8080/"
        },
        "id": "FmRpSEb30E5y",
        "outputId": "f85090b1-5bb3-4532-8d90-7764c07e5638"
      },
      "source": [
        "print('데이터 원본')\n",
        "#print(type(raw))\n",
        "# pd.datetime.now().date()\n",
        "raw['Close'] = raw['Close']*DOLLAR_TO_WON\n",
        "print(raw.tail(10))\n",
        "print(raw.describe())\n",
        "\n",
        "# 라인 플롯 출력\n",
        "#plt.rcParams[\"figure.figsize\"] = (14,4)\n",
        "\n",
        "#plt.rcParams['lines.color'] = 'r'\n",
        "#plt.rcParams['axes.grid'] = True \n",
        "\n",
        "#plt.plot(raw['Close'])   # plt.plot(raw)도 같은 결과 'Date'는 어디로?\n",
        "#plt.show()"
      ],
      "execution_count": null,
      "outputs": [
        {
          "output_type": "stream",
          "text": [
            "데이터 원본\n",
            "                   Close\n",
            "Date                    \n",
            "2021-02-11  5.365845e+07\n",
            "2021-02-12  5.320543e+07\n",
            "2021-02-13  5.275818e+07\n",
            "2021-02-14  5.473624e+07\n",
            "2021-02-15  5.249503e+07\n",
            "2021-02-16  5.496273e+07\n",
            "2021-02-17  5.683562e+07\n",
            "2021-02-18  5.815270e+07\n",
            "2021-02-19  6.259471e+07\n",
            "2021-02-20  6.256580e+07\n",
            "              Close\n",
            "count  2.349000e+03\n",
            "mean   6.343767e+06\n",
            "std    7.746598e+06\n",
            "min    1.994754e+05\n",
            "25%    5.043405e+05\n",
            "50%    4.486190e+06\n",
            "75%    9.770813e+06\n",
            "max    6.259471e+07\n"
          ],
          "name": "stdout"
        }
      ]
    },
    {
      "cell_type": "code",
      "metadata": {
        "colab": {
          "base_uri": "https://localhost:8080/"
        },
        "id": "aqaUi85RV2uY",
        "outputId": "354ba2fa-618f-420b-917b-660453d7196b"
      },
      "source": [
        "# [0, 1]] 정규화\n",
        "scaler = MinMaxScaler()      # StandardScaler()과 비교\n",
        "print(scaler)\n",
        "scaled = scaler.fit_transform(raw)\n",
        "print(type(scaled))\n",
        "\n",
        "print('\\n### 데이터 정규화 후')\n",
        "\n",
        "# np->pd로 변환해보기\n",
        "tmp = pd.DataFrame(scaled)\n",
        "print(type(tmp))\n",
        "print(tmp.head(10))\n",
        "print(tmp.describe())\n"
      ],
      "execution_count": null,
      "outputs": [
        {
          "output_type": "stream",
          "text": [
            "MinMaxScaler(copy=True, feature_range=(0, 1))\n",
            "<class 'numpy.ndarray'>\n",
            "\n",
            "### 데이터 정규화 후\n",
            "<class 'pandas.core.frame.DataFrame'>\n",
            "          0\n",
            "0  0.005012\n",
            "1  0.004422\n",
            "2  0.003890\n",
            "3  0.004143\n",
            "4  0.003962\n",
            "5  0.004022\n",
            "6  0.004626\n",
            "7  0.004400\n",
            "8  0.004191\n",
            "9  0.004062\n",
            "                 0\n",
            "count  2349.000000\n",
            "mean      0.098474\n",
            "std       0.124154\n",
            "min       0.000000\n",
            "25%       0.004886\n",
            "50%       0.068703\n",
            "75%       0.153399\n",
            "max       1.000000\n"
          ],
          "name": "stdout"
        }
      ]
    },
    {
      "cell_type": "code",
      "metadata": {
        "colab": {
          "base_uri": "https://localhost:8080/"
        },
        "id": "OB7Ff9L0V2uY",
        "outputId": "71dc74a1-3ca6-4b34-9203-9a5d277ac8ac"
      },
      "source": [
        "# 시계열 데이터 분할\n",
        "bundle =[]           # List\n",
        "# 가장 중요\n",
        "for i in range(len(raw)-(MY_PAST)):  # MY_PAST = 5 \n",
        "    pick = scaled[i: i + MY_PAST + 1]\n",
        "    bundle.append(pick)\n",
        "    \n",
        "print(type(bundle))    # List\n",
        "print('### 데이터 묶음 결과')\n",
        "print('한 묶음의 크기: ', len(bundle[0]))    # 5 + 1 = 6\n",
        "print('총 데이터 묶음 개수: ',len(bundle))   # len(raw) - MY_PAST = 2329 - 5\n",
        "print('첫번재 묶음: \\n',bundle[0])\n",
        "print('두번재 묶음: \\n',bundle[1])\n"
      ],
      "execution_count": null,
      "outputs": [
        {
          "output_type": "stream",
          "text": [
            "<class 'list'>\n",
            "### 데이터 묶음 결과\n",
            "한 묶음의 크기:  6\n",
            "총 데이터 묶음 개수:  2344\n",
            "첫번재 묶음: \n",
            " [[0.00501222]\n",
            " [0.00442177]\n",
            " [0.00388966]\n",
            " [0.0041429 ]\n",
            " [0.00396191]\n",
            " [0.0040217 ]]\n",
            "두번재 묶음: \n",
            " [[0.00442177]\n",
            " [0.00388966]\n",
            " [0.0041429 ]\n",
            " [0.00396191]\n",
            " [0.0040217 ]\n",
            " [0.00462552]]\n"
          ],
          "name": "stdout"
        }
      ]
    },
    {
      "cell_type": "code",
      "metadata": {
        "colab": {
          "base_uri": "https://localhost:8080/"
        },
        "id": "XCRTrJI3V2uZ",
        "outputId": "942118b5-fa1a-4912-d1a9-f1e55ea93371"
      },
      "source": [
        "# 리스트를 numpy로 전환 \n",
        "bundle = np.array(bundle)\n",
        "print(type(bundle))\n",
        "\n",
        "# 데이터를 입력과 출력으로 분할\n",
        "print('\\n### 분할 전 데이터 모양:',bundle.shape)\n",
        "X_data = bundle[:, 0:MY_PAST, :]   # 앞의 :은 행은 모두를 의미(2312개), 열은 0:MY_PAST(5):0~4까지 취한다. 마지막 콜론(:)은 생략 가능\n",
        "#print(X_data)\n",
        "print(X_data.shape)\n",
        "Y_data = bundle[:, -1]      # -1은 맨 마지막 item\n",
        "print(Y_data.shape)         # 2차원으로 변경됨\n",
        "\n",
        "X_train = X_data\n",
        "Y_train = Y_data\n",
        "\n",
        "# 출력 후 확인\n",
        "print('학습용 입력:', X_train.shape)\n",
        "print('학습용 출력:', Y_train.shape)\n",
        "print('X_train[0]: \\n', X_train[0])\n",
        "print('X_train[1]: \\n', X_train[1])\n",
        "print('Y_train[0]: ', Y_train[0])\n",
        "print('Y_train[1]: ', Y_train[1])"
      ],
      "execution_count": null,
      "outputs": [
        {
          "output_type": "stream",
          "text": [
            "<class 'numpy.ndarray'>\n",
            "\n",
            "### 분할 전 데이터 모양: (2344, 6, 1)\n",
            "(2344, 5, 1)\n",
            "(2344, 1)\n",
            "학습용 입력: (2344, 5, 1)\n",
            "학습용 출력: (2344, 1)\n",
            "X_train[0]: \n",
            " [[0.00501222]\n",
            " [0.00442177]\n",
            " [0.00388966]\n",
            " [0.0041429 ]\n",
            " [0.00396191]]\n",
            "X_train[1]: \n",
            " [[0.00442177]\n",
            " [0.00388966]\n",
            " [0.0041429 ]\n",
            " [0.00396191]\n",
            " [0.0040217 ]]\n",
            "Y_train[0]:  [0.0040217]\n",
            "Y_train[1]:  [0.00462552]\n"
          ],
          "name": "stdout"
        }
      ]
    },
    {
      "cell_type": "code",
      "metadata": {
        "colab": {
          "base_uri": "https://localhost:8080/"
        },
        "id": "5x3m02YUflvY",
        "outputId": "8f3b3c0b-28f3-4cc9-e159-41614bb3fe68"
      },
      "source": [
        "# 리스트 분할 연습\r\n",
        "print('\\n리스트 분할 연습')\r\n",
        "\r\n",
        "l1=[]\r\n",
        "for i in range(1,21):\r\n",
        "  l1.append(i)\r\n",
        "\r\n",
        "bu=list()\r\n",
        "for i in range(len(l1)-(MY_PAST)):\r\n",
        "    bu.append(l1[i: i+MY_PAST+1])\r\n",
        "\r\n",
        "print('번들\\n',bu)\r\n",
        "bu = np.array(bu)\r\n",
        "X1 = bu[:, 0:MY_PAST]   # 2차원 배열 분할\r\n",
        "print(X1)\r\n",
        "Y1 = bu[:,-1]\r\n",
        "print(Y1)"
      ],
      "execution_count": null,
      "outputs": [
        {
          "output_type": "stream",
          "text": [
            "\n",
            "리스트 분할 연습\n",
            "번들\n",
            " [[1, 2, 3, 4, 5, 6], [2, 3, 4, 5, 6, 7], [3, 4, 5, 6, 7, 8], [4, 5, 6, 7, 8, 9], [5, 6, 7, 8, 9, 10], [6, 7, 8, 9, 10, 11], [7, 8, 9, 10, 11, 12], [8, 9, 10, 11, 12, 13], [9, 10, 11, 12, 13, 14], [10, 11, 12, 13, 14, 15], [11, 12, 13, 14, 15, 16], [12, 13, 14, 15, 16, 17], [13, 14, 15, 16, 17, 18], [14, 15, 16, 17, 18, 19], [15, 16, 17, 18, 19, 20]]\n",
            "[[ 1  2  3  4  5]\n",
            " [ 2  3  4  5  6]\n",
            " [ 3  4  5  6  7]\n",
            " [ 4  5  6  7  8]\n",
            " [ 5  6  7  8  9]\n",
            " [ 6  7  8  9 10]\n",
            " [ 7  8  9 10 11]\n",
            " [ 8  9 10 11 12]\n",
            " [ 9 10 11 12 13]\n",
            " [10 11 12 13 14]\n",
            " [11 12 13 14 15]\n",
            " [12 13 14 15 16]\n",
            " [13 14 15 16 17]\n",
            " [14 15 16 17 18]\n",
            " [15 16 17 18 19]]\n",
            "[ 6  7  8  9 10 11 12 13 14 15 16 17 18 19 20]\n"
          ],
          "name": "stdout"
        }
      ]
    },
    {
      "cell_type": "markdown",
      "metadata": {
        "id": "sKzr9_KXV2ua"
      },
      "source": [
        "### 3. 인공신경망 구현"
      ]
    },
    {
      "cell_type": "code",
      "metadata": {
        "id": "ZQc6esY-V2ua",
        "colab": {
          "base_uri": "https://localhost:8080/"
        },
        "outputId": "79f23b2d-e475-4cd1-fabb-ec6e3db242a2"
      },
      "source": [
        "# 케라스 RNN은 2차원 입력만 허용\n",
        "\n",
        "# RNN(LSTM) 구현\n",
        "model = Sequential()\n",
        "\n",
        "# 입력층과 LSTM 층을 동시에 추가\n",
        "model.add(LSTM(units=MY_HIDDEN,   # MY_HIDDEN = 256\n",
        "               input_shape=MY_SHAPE))         # LSTM(long short term memory)   MY_SHAPE = (MY_PAST, 1)\n",
        "#model.add(SimpleRNN(units=MY_HIDDEN))        # LSTM으로 수정 후 비교, 이 문제에 한해 SimpleRNN이 조금 났다.\n",
        "# 순방향 계산 : feed forward, \n",
        "# 역방향 계산(Back Propagation) : 가중치 보정\n",
        "# Sigmoid(-1~1) : 경사하강법 처리를 위한 미분이 쉬움. MinMax로 인해 0~1 사이의 숫자가 나옴.\n",
        "\n",
        "# 출력층 추가\n",
        "model.add(Dense(units=1))  #activation=linear은 생략 가능\n",
        "\n",
        "print('\\nRNN 요약')\n",
        "model.summary()\n",
        "# Param의 개수는 역으로 확인이 불가"
      ],
      "execution_count": null,
      "outputs": [
        {
          "output_type": "stream",
          "text": [
            "\n",
            "RNN 요약\n",
            "Model: \"sequential\"\n",
            "_________________________________________________________________\n",
            "Layer (type)                 Output Shape              Param #   \n",
            "=================================================================\n",
            "lstm (LSTM)                  (None, 256)               264192    \n",
            "_________________________________________________________________\n",
            "dense (Dense)                (None, 1)                 257       \n",
            "=================================================================\n",
            "Total params: 264,449\n",
            "Trainable params: 264,449\n",
            "Non-trainable params: 0\n",
            "_________________________________________________________________\n"
          ],
          "name": "stdout"
        }
      ]
    },
    {
      "cell_type": "markdown",
      "metadata": {
        "id": "amcw2gUoV2ua"
      },
      "source": [
        "### 4. 인공신경망 학습 및 평가"
      ]
    },
    {
      "cell_type": "code",
      "metadata": {
        "id": "xlPlC5RJV2ub"
      },
      "source": [
        "# RNN 학습\n",
        "model.compile(optimizer='adam',     # Learning rate(학습률)\n",
        "             #loss='mape',\n",
        "             loss='mse',        # mape와 비교, MSE(mean square error)\n",
        "             # 생략metrics=['acc'])\n",
        "             metrics=['acc'])\n",
        "fname = 'bitcoin.h5'\n",
        "fname = os.path.join(in_dir, fname)\n",
        "\n",
        "if TRAIN_MODE:\n",
        "  print('\\n학습 시작')\n",
        "  begin =time()\n",
        "  model.fit(x=X_train,      # x: 입력\n",
        "          y=Y_train,        # y: 정답\n",
        "          epochs=MY_EPOCH,\n",
        "          verbose=1)        # 2: 1보다 적은 결과를 보여줌, 0: 출력 안 함\n",
        "\n",
        "  end = time()\n",
        "  model.save_weights(fname)\n",
        "  print('\\n총 학습시간: {:.2f}초'.format(end-begin))\n",
        "  print('학습 종료')\n",
        "  print('TRAIN_MODE를 0으로 바꾸고 진행하세요')\n",
        "  exit()\n",
        "\n",
        "else:\n",
        "  model.load_weights(fname)"
      ],
      "execution_count": null,
      "outputs": []
    },
    {
      "cell_type": "code",
      "metadata": {
        "id": "QWFYB5DjV2ub",
        "colab": {
          "base_uri": "https://localhost:8080/"
        },
        "outputId": "80be6c3b-8535-4b9d-a608-a3c8a62b3cec"
      },
      "source": [
        "# RNN 평가\n",
        "# 최근 6일 비트코인 시세 출력\n",
        "print('\\n최근 6일 비트코인 추세: ')\n",
        "print(raw.tail(MY_PAST +1))\n",
        "print(X_train[-1])\n"
      ],
      "execution_count": null,
      "outputs": [
        {
          "output_type": "stream",
          "text": [
            "\n",
            "최근 6일 비트코인 추세: \n",
            "                   Close\n",
            "Date                    \n",
            "2021-02-15  5.249503e+07\n",
            "2021-02-16  5.496273e+07\n",
            "2021-02-17  5.683562e+07\n",
            "2021-02-18  5.815270e+07\n",
            "2021-02-19  6.259471e+07\n",
            "2021-02-20  6.256580e+07\n",
            "[[0.83813374]\n",
            " [0.87768325]\n",
            " [0.90769994]\n",
            " [0.92880854]\n",
            " [1.        ]]\n"
          ],
          "name": "stdout"
        }
      ]
    },
    {
      "cell_type": "code",
      "metadata": {
        "colab": {
          "base_uri": "https://localhost:8080/"
        },
        "id": "MQXoJchBLUVb",
        "outputId": "9abb611b-496a-4b6f-fe5b-5416686b9f76"
      },
      "source": [
        "\n",
        "# LSTM으로 오늘 비트코인 시세 예측\n",
        "# 맨 마지막 학습용 데이터 출력해서 확인\n",
        "# 데이터 역정규화 필요\n",
        "#print(X_train[-1])\n",
        "#print(Y_train[-1])\n",
        "#print(X_train[-1].shape)\n",
        "\n",
        "X_ori = scaler.inverse_transform(X_train[-1])   # 역전환\n",
        "print(X_ori)\n",
        "\n",
        "print(Y_train[-1].shape)   # 1차원을 역전환하면 오류 발생(2차원으로 변환 필요)\n",
        "tmp = Y_train[-1].reshape(1,1)  # 2차원으로 변환\n",
        "print('오늘 비트코인 시세')\n",
        "\n",
        "Y_ori = scaler.inverse_transform(tmp)   # 역정규화\n",
        "print(Y_ori)"
      ],
      "execution_count": null,
      "outputs": [
        {
          "output_type": "stream",
          "text": [
            "[[52495025.6208]\n",
            " [54962726.8736]\n",
            " [56835625.    ]\n",
            " [58152701.2528]\n",
            " [62594708.7472]]\n",
            "(1,)\n",
            "오늘 비트코인 시세\n",
            "[[62565798.7472]]\n"
          ],
          "name": "stdout"
        }
      ]
    },
    {
      "cell_type": "markdown",
      "metadata": {
        "id": "V-piigBdV2ub"
      },
      "source": [
        "### 5. 인공신경망 예측"
      ]
    },
    {
      "cell_type": "code",
      "metadata": {
        "id": "t4Ky-hhGV2uc",
        "colab": {
          "base_uri": "https://localhost:8080/"
        },
        "outputId": "8051b025-2b29-41eb-c95b-150fede6e7f5"
      },
      "source": [
        "# RNN으로 오늘 시세 예측\n",
        "# LSTM으로 내일 비트코인 시세 예측()\n",
        "# 예측을 위해 인공신경망에 들어가는 데이터는 반드시 batch 정보를 추가해야 한다.\n",
        "# pred = model.predict(X_train[-1])  # X_train[-1]은 3차원으로 3차원 필요, X_train[-1]은 2차원으로 오류 발생\n",
        "\n",
        "tmp = X_train[-1].reshape(1,MY_PAST,1)  # batch 추가\n",
        "#print(tmp.shape)\n",
        "pred = model.predict(tmp)\n",
        "pred = scaler.inverse_transform(pred)\n",
        "print('RNN이 예측한 오늘 시세: ',pred)"
      ],
      "execution_count": null,
      "outputs": [
        {
          "output_type": "stream",
          "text": [
            "RNN이 예측한 오늘 시세:  [[62710132.]]\n"
          ],
          "name": "stdout"
        }
      ]
    },
    {
      "cell_type": "code",
      "metadata": {
        "colab": {
          "base_uri": "https://localhost:8080/"
        },
        "id": "ghB9matvWAFw",
        "outputId": "915de8cb-3835-4a61-f459-df7a96246d4b"
      },
      "source": [
        "# 내일 시세 예측\n",
        "tmp = raw.to_numpy()    # DataFrame -> Numpy\n",
        "#print(type(raw))\n",
        "#print(type(tmp))\n",
        "\n",
        "tomorrow = tmp[len(tmp) - MY_PAST:]\n",
        "print('내일 비트코인 시세 예측용 데이터')\n",
        "post = tomorrow"
      ],
      "execution_count": null,
      "outputs": [
        {
          "output_type": "stream",
          "text": [
            "내일 비트코인 시세 예측용 데이터\n"
          ],
          "name": "stdout"
        }
      ]
    },
    {
      "cell_type": "code",
      "metadata": {
        "id": "G6h8Gjxiy3vr",
        "colab": {
          "base_uri": "https://localhost:8080/"
        },
        "outputId": "b865dfc6-5a3c-4c51-f4b2-755adcd86880"
      },
      "source": [
        "# 체크해보면 폰트 개수가 늘어났다\n",
        "sys_font=fm.findSystemFonts()\n",
        "print(f\"sys_font number: {len(sys_font)}\")\n",
        "\n",
        "nanum_font = [f for f in sys_font if 'Nanum' in f]\n",
        "print(f\"nanum_font number: {len(nanum_font)}\")\n",
        "# 한번 프린트 해보자\n",
        "print(nanum_font)"
      ],
      "execution_count": null,
      "outputs": [
        {
          "output_type": "stream",
          "text": [
            "sys_font number: 48\n",
            "nanum_font number: 31\n",
            "['/usr/share/fonts/truetype/nanum/NanumBarunpenR.ttf', '/usr/share/fonts/truetype/nanum/NanumGothic.ttf', '/usr/share/fonts/truetype/nanum/NanumSquareB.ttf', '/usr/share/fonts/truetype/nanum/NanumBrush.ttf', '/usr/share/fonts/truetype/nanum/NanumMyeongjoBold.ttf', '/usr/share/fonts/truetype/nanum/NanumGothicBold.ttf', '/usr/share/fonts/truetype/nanum/NanumSquareEB.ttf', '/usr/share/fonts/truetype/nanum/NanumSquareRoundL.ttf', '/usr/share/fonts/truetype/nanum/NanumBarunpenB.ttf', '/usr/share/fonts/truetype/nanum/NanumGothicExtraBold.ttf', '/usr/share/fonts/truetype/nanum/NanumMyeongjoEcoExtraBold.ttf', '/usr/share/fonts/truetype/nanum/NanumMyeongjoEco.ttf', '/usr/share/fonts/truetype/nanum/NanumSquareL.ttf', '/usr/share/fonts/truetype/nanum/NanumBarunGothicBold.ttf', '/usr/share/fonts/truetype/nanum/NanumPen.ttf', '/usr/share/fonts/truetype/nanum/NanumSquareRoundR.ttf', '/usr/share/fonts/truetype/nanum/NanumBarunGothicLight.ttf', '/usr/share/fonts/truetype/nanum/NanumGothicEcoExtraBold.ttf', '/usr/share/fonts/truetype/nanum/NanumGothicLight.ttf', '/usr/share/fonts/truetype/nanum/NanumSquareRoundB.ttf', '/usr/share/fonts/truetype/nanum/NanumGothicCoding.ttf', '/usr/share/fonts/truetype/nanum/NanumSquareR.ttf', '/usr/share/fonts/truetype/nanum/NanumMyeongjo.ttf', '/usr/share/fonts/truetype/nanum/NanumGothicEcoBold.ttf', '/usr/share/fonts/truetype/nanum/NanumGothicEco.ttf', '/usr/share/fonts/truetype/nanum/NanumMyeongjoEcoBold.ttf', '/usr/share/fonts/truetype/nanum/NanumBarunGothicUltraLight.ttf', '/usr/share/fonts/truetype/nanum/NanumGothicCoding-Bold.ttf', '/usr/share/fonts/truetype/nanum/NanumBarunGothic.ttf', '/usr/share/fonts/truetype/nanum/NanumMyeongjoExtraBold.ttf', '/usr/share/fonts/truetype/nanum/NanumSquareRoundEB.ttf']\n"
          ],
          "name": "stdout"
        }
      ]
    },
    {
      "cell_type": "code",
      "metadata": {
        "colab": {
          "base_uri": "https://localhost:8080/"
        },
        "id": "cVYJBF9Sq1EB",
        "outputId": "a24ede47-0a4e-47bd-8b66-bbf8eb3d9e16"
      },
      "source": [
        "# 현재 설정되어 있는 폰트 사이즈와 글꼴을 알아보자\r\n",
        "!python --version\r\n",
        "def current_font():\r\n",
        "  print(f\"설정 폰트 글꼴: {plt.rcParams['font.family']}, 설정 폰트 사이즈: {plt.rcParams['font.size']}\")  # 파이썬 3.6 이상 사용가능하다\r\n",
        "        \r\n",
        "current_font()\r\n",
        "\r\n",
        "font_path = '/usr/share/fonts/truetype/nanum/NanumGothicCoding.ttf'  # 설치된 나눔글꼴중 원하는 녀석의 전체 경로를 가져오자\r\n",
        "font_name = fm.FontProperties(fname=font_path, size=10).get_name()\r\n",
        "print(font_name)\r\n",
        "\r\n",
        "# fm._rebuild() 를 해줘야 system 에 추가 설치된 폰트를 matplotilb.font_manager 가 알아차리는 것으로 보인다.\r\n",
        "# 우선 fm._rebuild() 를 해주고\r\n",
        "fm._rebuild()\r\n",
        "\r\n",
        "#앗~ 왜 마이너스 기호가 깨지지?\r\n",
        "#mpl.rcParams['axes.unicode_minus'] = False 를 해줘야 한다\r\n",
        "mpl.rcParams['axes.unicode_minus'] = False"
      ],
      "execution_count": null,
      "outputs": [
        {
          "output_type": "stream",
          "text": [
            "Python 3.6.9\n",
            "설정 폰트 글꼴: ['sans-serif'], 설정 폰트 사이즈: 10.0\n",
            "NanumGothicCoding\n"
          ],
          "name": "stdout"
        }
      ]
    },
    {
      "cell_type": "code",
      "metadata": {
        "colab": {
          "base_uri": "https://localhost:8080/",
          "height": 372
        },
        "id": "Q6Z7a0t6nJkG",
        "outputId": "d2e7a565-c1a1-4908-d0d7-88bd55034beb"
      },
      "source": [
        "\n",
        "# 그래프 출력\n",
        "print(post)\n",
        "plt.plot(tomorrow,'r')\n",
        "plt.rc('font', family=font_name)\n",
        "#plt.rc('font', family='Malgun Gothic')\n",
        "# 글씨 선명하게 출력하는 설정\n",
        "# %config InlineBackend.figure_format = 'retina'\n",
        "plt.title('Yesterday')\n",
        "\n",
        "plt.show()"
      ],
      "execution_count": null,
      "outputs": [
        {
          "output_type": "stream",
          "text": [
            "[[54962726.8736]\n",
            " [56835625.    ]\n",
            " [58152701.2528]\n",
            " [62594708.7472]\n",
            " [62565798.7472]]\n"
          ],
          "name": "stdout"
        },
        {
          "output_type": "display_data",
          "data": {
            "image/png": "[encoded data removed]",
            "text/plain": [
              "<Figure size 432x288 with 1 Axes>"
            ]
          },
          "metadata": {
            "tags": [],
            "needs_background": "light"
          }
        }
      ]
    },
    {
      "cell_type": "code",
      "metadata": {
        "colab": {
          "base_uri": "https://localhost:8080/"
        },
        "id": "rL2Zs1E6bnYe",
        "outputId": "fdd87f86-b5ba-4c38-bd13-493dea1755cd"
      },
      "source": [
        "# 내일 예측용 데이터 정규화\n",
        "#print(post)\n",
        "tomorrow= scaler.fit_transform(post)\n",
        "\n",
        "tomorrow=tomorrow.reshape(1,MY_PAST,1)\n",
        "#print(tomorrow)\n",
        "\n",
        "pred=model.predict(tomorrow)\n",
        "#print(type(pred))\n",
        "pred= scaler.inverse_transform(pred)\n",
        "#print(type(pred))\n",
        "print('내일 예측 시세', pred)\n"
      ],
      "execution_count": null,
      "outputs": [
        {
          "output_type": "stream",
          "text": [
            "내일 예측 시세 [[62434120.]]\n"
          ],
          "name": "stdout"
        }
      ]
    },
    {
      "cell_type": "code",
      "metadata": {
        "id": "5_D0pogzV2ud",
        "colab": {
          "base_uri": "https://localhost:8080/",
          "height": 372
        },
        "outputId": "714c03ed-d0e5-49d3-83e1-fcc30f44c91c"
      },
      "source": [
        "print('Today predict')\r\n",
        "post = np.append(post,pred)\r\n",
        "#print(len(post))\r\n",
        "print(post)\r\n",
        "plt.plot(post,'g')\r\n",
        "plt.title('Today predict')\r\n",
        "plt.show()"
      ],
      "execution_count": null,
      "outputs": [
        {
          "output_type": "stream",
          "text": [
            "Today predict\n",
            "[54962726.8736 56835625.     58152701.2528 62594708.7472 62565798.7472\n",
            " 62434120.    ]\n"
          ],
          "name": "stdout"
        },
        {
          "output_type": "stream",
          "text": [
            "findfont: Font family ['NanumGothicCoding'] not found. Falling back to DejaVu Sans.\n",
            "findfont: Font family ['NanumGothicCoding'] not found. Falling back to DejaVu Sans.\n"
          ],
          "name": "stderr"
        },
        {
          "output_type": "display_data",
          "data": {
            "image/png": "[encoded data removed]",
            "text/plain": [
              "<Figure size 432x288 with 1 Axes>"
            ]
          },
          "metadata": {
            "tags": [],
            "needs_background": "light"
          }
        }
      ]
    },
    {
      "cell_type": "code",
      "metadata": {
        "colab": {
          "base_uri": "https://localhost:8080/"
        },
        "id": "Kwu5wR1yyaOH",
        "outputId": "5d22c682-9eb7-442e-dbbc-461a4116a269"
      },
      "source": [
        "# 모레 예측용 데이터 정규화\r\n",
        "\r\n",
        "post= np.delete(post,[0][0])\r\n",
        "#print(len(post))\r\n",
        "\r\n",
        "post = post.reshape(-1,1)\r\n",
        "tmp= scaler.fit_transform(post)\r\n",
        "#print(tmp)\r\n",
        "tmp = tmp.reshape(1,MY_PAST,1)\r\n",
        "\r\n",
        "pred = model.predict(tmp)\r\n",
        "pred = scaler.inverse_transform(pred)\r\n",
        "\r\n",
        "print('모레 예측값: ', pred)"
      ],
      "execution_count": null,
      "outputs": [
        {
          "output_type": "stream",
          "text": [
            "모레 예측값:  [[62164850.]]\n"
          ],
          "name": "stdout"
        }
      ]
    },
    {
      "cell_type": "code",
      "metadata": {
        "colab": {
          "base_uri": "https://localhost:8080/",
          "height": 335
        },
        "id": "D6AdH41H68V1",
        "outputId": "fe1facca-15dd-4181-95b1-3bab8958c6d4"
      },
      "source": [
        "print('모레 예상 추세')\r\n",
        "post = np.append(post,pred)\r\n",
        "#print(len(post))\r\n",
        "print(post)\r\n",
        "plt.plot(post,'b')\r\n",
        "plt.title('Tomorrow predict')\r\n",
        "plt.show()"
      ],
      "execution_count": null,
      "outputs": [
        {
          "output_type": "stream",
          "text": [
            "모레 예상 추세\n",
            "[56835625.     58152701.2528 62594708.7472 62565798.7472 62434120.\n",
            " 62164848.    ]\n"
          ],
          "name": "stdout"
        },
        {
          "output_type": "display_data",
          "data": {
            "image/png": "[encoded data removed]",
            "text/plain": [
              "<Figure size 432x288 with 1 Axes>"
            ]
          },
          "metadata": {
            "tags": [],
            "needs_background": "light"
          }
        }
      ]
    }
  ]
}